{
  "nbformat": 4,
  "nbformat_minor": 0,
  "metadata": {
    "colab": {
      "name": "Tutorial60_Prime-Numbers.ipynb",
      "provenance": [],
      "authorship_tag": "ABX9TyPotPAd1/AXU4BRcEhOKXT6",
      "include_colab_link": true
    },
    "kernelspec": {
      "name": "python3",
      "display_name": "Python 3"
    }
  },
  "cells": [
    {
      "cell_type": "markdown",
      "metadata": {
        "id": "view-in-github",
        "colab_type": "text"
      },
      "source": [
        "<a href=\"https://colab.research.google.com/github/Shambhavi-Gupta/Tutorial60_Prime_Numbers/blob/main/Tutorial60_Prime_Numbers.ipynb\" target=\"_parent\"><img src=\"https://colab.research.google.com/assets/colab-badge.svg\" alt=\"Open In Colab\"/></a>"
      ]
    },
    {
      "cell_type": "code",
      "metadata": {
        "id": "8H_EZ9XUIIRI"
      },
      "source": [
        "num = int(input(\"Enter a number : \"))\r\n",
        "if num>1:\r\n",
        "    for i in range(2,num):\r\n",
        "        if(num%2)==0:\r\n",
        "            print(num, \"is not prime number\")\r\n",
        "            break\r\n",
        "    else:\r\n",
        "        print(num, \"is a prime number\")\r\n",
        "else:\r\n",
        "    print(num, \"is not a prime number\")\r\n"
      ],
      "execution_count": null,
      "outputs": []
    }
  ]
}